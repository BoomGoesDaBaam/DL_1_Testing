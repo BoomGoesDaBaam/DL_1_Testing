{
  "nbformat": 4,
  "nbformat_minor": 0,
  "metadata": {
    "colab": {
      "provenance": []
    },
    "kernelspec": {
      "name": "python3",
      "display_name": "Python 3"
    },
    "language_info": {
      "name": "python"
    }
  },
  "cells": [
    {
      "cell_type": "code",
      "execution_count": 2,
      "metadata": {
        "colab": {
          "base_uri": "https://localhost:8080/"
        },
        "id": "ZPfIWWBDXoTL",
        "outputId": "569e996f-8c16-4c19-9d23-920fd7b30e1c"
      },
      "outputs": [
        {
          "output_type": "stream",
          "name": "stdout",
          "text": [
            "Hellooooo\n"
          ]
        }
      ],
      "source": [
        "print(\"Hellooooo\")"
      ]
    }
  ]
}